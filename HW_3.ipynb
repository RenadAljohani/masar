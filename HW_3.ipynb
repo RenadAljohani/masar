{
  "nbformat": 4,
  "nbformat_minor": 0,
  "metadata": {
    "colab": {
      "provenance": [],
      "authorship_tag": "ABX9TyMRusEhYnioWZDOVlmLaS9N",
      "include_colab_link": true
    },
    "kernelspec": {
      "name": "python3",
      "display_name": "Python 3"
    },
    "language_info": {
      "name": "python"
    }
  },
  "cells": [
    {
      "cell_type": "markdown",
      "metadata": {
        "id": "view-in-github",
        "colab_type": "text"
      },
      "source": [
        "<a href=\"https://colab.research.google.com/github/RenadAljohani/masar/blob/main/HW_3.ipynb\" target=\"_parent\"><img src=\"https://colab.research.google.com/assets/colab-badge.svg\" alt=\"Open In Colab\"/></a>"
      ]
    },
    {
      "cell_type": "code",
      "execution_count": null,
      "metadata": {
        "colab": {
          "base_uri": "https://localhost:8080/"
        },
        "id": "oeE-QL8PDMC3",
        "outputId": "b2dec4b2-3927-4bcc-c1da-bc273e87c1f4"
      },
      "outputs": [
        {
          "output_type": "stream",
          "name": "stdout",
          "text": [
            "\n",
            "* \n",
            "* * \n",
            "* * * \n",
            "* * * * \n",
            "* * * * * \n",
            "* * * * \n",
            "* * * \n",
            "* * \n",
            "* \n",
            "_____________________________________________\n",
            "11\n",
            "13\n",
            "15\n"
          ]
        }
      ],
      "source": [
        "#1st question\n",
        "#variable\n",
        "NumOfColumns=9\n",
        "#حلقه\n",
        "for i in range(NumOfColumns+1):\n",
        "#if i>=5\n",
        "  if i <= 5:\n",
        "#when is condition is true then\n",
        "     for j in range(i):\n",
        "        print(\"* \",end='')\n",
        "     print()\n",
        "#when is condition is false then\n",
        "  else:\n",
        "      for j in range(NumOfColumns-i+1):\n",
        "         print(\"* \",end='')\n",
        "      print()\n",
        "print(\"_____________________________________________\")\n",
        "#2nd question\n",
        "#function to check if the num is prime or not\n",
        "def isPrime(num):\n",
        "  for i in range(2,int(num**0.5)+1):\n",
        "    if num%i==0:\n",
        "      return False\n",
        "    return True\n",
        "#متغير يعمل ك عداد\n",
        "count=0\n",
        "#متغير عدد\n",
        "num=11\n",
        "#لوب لأستخراج اول 3 اعداد اوليه\n",
        "while count<3:\n",
        "  if isPrime(num):\n",
        "    print(num)\n",
        "    count+=1\n",
        "  #increament\n",
        "  num+=1\n"
      ]
    }
  ]
}