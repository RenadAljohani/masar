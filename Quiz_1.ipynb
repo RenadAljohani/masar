{
  "nbformat": 4,
  "nbformat_minor": 0,
  "metadata": {
    "colab": {
      "provenance": [],
      "authorship_tag": "ABX9TyOdOn0mLdCVnTvsvOq0CBsT",
      "include_colab_link": true
    },
    "kernelspec": {
      "name": "python3",
      "display_name": "Python 3"
    },
    "language_info": {
      "name": "python"
    }
  },
  "cells": [
    {
      "cell_type": "markdown",
      "metadata": {
        "id": "view-in-github",
        "colab_type": "text"
      },
      "source": [
        "<a href=\"https://colab.research.google.com/github/RenadAljohani/masar/blob/main/Quiz_1.ipynb\" target=\"_parent\"><img src=\"https://colab.research.google.com/assets/colab-badge.svg\" alt=\"Open In Colab\"/></a>"
      ]
    },
    {
      "cell_type": "code",
      "execution_count": 19,
      "metadata": {
        "colab": {
          "base_uri": "https://localhost:8080/"
        },
        "id": "jW0Z2__Kt7Rj",
        "outputId": "32e62bac-ac0e-4166-d671-731bbd77c751"
      },
      "outputs": [
        {
          "output_type": "execute_result",
          "data": {
            "text/plain": [
              "(3, 1)"
            ]
          },
          "metadata": {},
          "execution_count": 19
        }
      ],
      "source": [
        "#function for search 2 num\n",
        "def sum(numbers,target):\n",
        "  #loop\n",
        "  for i in numbers:\n",
        "    #different between i and target\n",
        "    different=target-i\n",
        "    #condition\n",
        "    if different in numbers:\n",
        "      #num1\n",
        "      num1=i\n",
        "      #num2\n",
        "      num2=different\n",
        "      return num1 , num2\n",
        "#list\n",
        "nums=[5,6,3,1]\n",
        "#sum of 2 numbers\n",
        "target=4\n",
        "#call sum function with parameter\n",
        "sum(nums,target)"
      ]
    }
  ]
}