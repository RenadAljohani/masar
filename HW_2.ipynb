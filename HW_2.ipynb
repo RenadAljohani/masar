{
  "nbformat": 4,
  "nbformat_minor": 0,
  "metadata": {
    "colab": {
      "provenance": [],
      "authorship_tag": "ABX9TyNvaDH8rYTF9epq8pr7vklg",
      "include_colab_link": true
    },
    "kernelspec": {
      "name": "python3",
      "display_name": "Python 3"
    },
    "language_info": {
      "name": "python"
    }
  },
  "cells": [
    {
      "cell_type": "markdown",
      "metadata": {
        "id": "view-in-github",
        "colab_type": "text"
      },
      "source": [
        "<a href=\"https://colab.research.google.com/github/RenadAljohani/masar/blob/main/HW_2.ipynb\" target=\"_parent\"><img src=\"https://colab.research.google.com/assets/colab-badge.svg\" alt=\"Open In Colab\"/></a>"
      ]
    },
    {
      "cell_type": "code",
      "execution_count": null,
      "metadata": {
        "colab": {
          "base_uri": "https://localhost:8080/"
        },
        "id": "BvBZDpRISJB0",
        "outputId": "e54b69a7-11e7-448b-9102-b3d3438df885"
      },
      "outputs": [
        {
          "output_type": "stream",
          "name": "stdout",
          "text": [
            "نسبة المكافأة: % 20.0\n"
          ]
        }
      ],
      "source": [
        "#احسب العلاوات او المكافأت\n",
        "def calculate_bouns(years,evaluation):\n",
        "  #اذا كانت السنوات اقل او يساوي 10\n",
        "  if years<=10 and evaluation==\"Excellent\":\n",
        "      bonus_percentage=0.10\n",
        "  elif years<=10 and evaluation==\"Poor\":\n",
        "      bonus_percentage=0.05\n",
        "  #اذا كانت السنوات اعلى من 10\n",
        "  elif years >10 and evaluation==\"Excellent\":\n",
        "      bonus_percentage=0.20\n",
        "  elif years>10 and evaluation==\"Poor\":\n",
        "      bonus_percentage=0.15\n",
        "  else:\n",
        "    bonus_percentage=0.0\n",
        "  #ارجع قيمه المكافات او العلاوات\n",
        "  return bonus_percentage\n",
        "#سنوات الخبره\n",
        "YearsOfExperience=17\n",
        "#تقييم الاداء\n",
        "PerformanceEvaluation=\"Excellent\"\n",
        "# استدعاء للداله وامر طباعه لنسبه المكأفاه\n",
        "print(\"نسبة المكافأة:\",\"%\",calculate_bouns(YearsOfExperience,PerformanceEvaluation)*100)\n"
      ]
    }
  ]
}